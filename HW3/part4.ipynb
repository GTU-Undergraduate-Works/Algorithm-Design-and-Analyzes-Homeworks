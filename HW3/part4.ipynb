{
 "cells": [
  {
   "cell_type": "markdown",
   "metadata": {},
   "source": [
    "# INTRODUCTION TO ALGORTIHM DESIGN AND ANALAYZES HOMEWORK3"
   ]
  },
  {
   "cell_type": "markdown",
   "metadata": {},
   "source": [
    "## PART4"
   ]
  },
  {
   "cell_type": "markdown",
   "metadata": {},
   "source": [
    "This function finds contiguous subset having the largest sum within given array.<br>\n",
    "<strong>arr : </strong> array to find largest contiguous subset. <br>\n",
    "<strong>low: </strong> index of first element <br>\n",
    "<strong>high: </strong> index of last element <br><br>\n",
    "<strong> Complexity Analysis : </strong> <br>\n",
    "This function divide array to subarray and  conqeur result of subresult and crossing result.<br>\n",
    "\\begin{equation*}\n",
    "T(n) = (\\frac{n}{2}) + {\\theta (n)} + {\\theta (1)} \n",
    "\\end{equation*}\n",
    "\\begin{equation*}\n",
    "T(n) = {\\theta (n.logn)} \n",
    "\\end{equation*}"
   ]
  },
  {
   "cell_type": "code",
   "execution_count": 5,
   "metadata": {},
   "outputs": [],
   "source": [
    "def find_biggest_subset(arr, low, high):\n",
    "    assert low <= high, \"Invalid low and high argument\"\n",
    "    if low == high:\n",
    "        return low, high, arr[low]\n",
    "    middle = (low + high) // 2\n",
    "\n",
    "    left_low, left_high, left_sum = find_biggest_subset(arr, low, middle)\n",
    "    right_low, right_high, right_sum = find_biggest_subset(arr, middle+1, high)\n",
    "    cross_low, cross_high, cross_sum = find_crossing_subset(arr, low, middle, high)\n",
    "\n",
    "    max_sum = max(left_sum, cross_sum, right_sum)\n",
    "    if max_sum == left_sum:\n",
    "        return left_low, left_high, left_sum\n",
    "    elif max_sum == cross_sum:\n",
    "        return cross_low, cross_high, cross_sum\n",
    "    else:\n",
    "        return right_low, right_high ,right_sum\n"
   ]
  },
  {
   "cell_type": "markdown",
   "metadata": {},
   "source": [
    "This function finds crossing subset having largest sum.<br>\n",
    "<strong> arr: </strong> array to find crossing subset <br>\n",
    "<strong> low: </strong> index of first element <br>\n",
    "<strong> middle: </strong> index of middle element <br>\n",
    "<strong> high: </strong> index of last element <br><br>\n",
    "\n",
    "<strong> Complexity Analysis : </strong> <br>\n",
    "This function traverse all elements of array once.So, <br>\n",
    "\\begin{equation*}\n",
    "T(n) = {\\theta (n)} \n",
    "\\end{equation*}"
   ]
  },
  {
   "cell_type": "code",
   "execution_count": 6,
   "metadata": {},
   "outputs": [],
   "source": [
    "def find_crossing_subset(arr, low, middle, high):\n",
    "    max_left = 0\n",
    "    max_right = 0\n",
    "    left_sum = float('-inf')\n",
    "    sum = 0\n",
    "    i = middle\n",
    "    while(i >= low):\n",
    "        sum = sum + arr[i]\n",
    "        if (sum > left_sum):\n",
    "            left_sum = sum\n",
    "            max_left = i\n",
    "\n",
    "        i -= 1\n",
    "\n",
    "    sum = 0\n",
    "    i = middle+1\n",
    "    right_sum = float('-inf')\n",
    "    while(i <= high):\n",
    "        sum = sum + arr[i]\n",
    "        if (sum > right_sum):\n",
    "            right_sum = sum\n",
    "            max_right = i\n",
    "        i += 1\n",
    "\n",
    "    return max_left, max_right, int(left_sum + right_sum)"
   ]
  },
  {
   "cell_type": "code",
   "execution_count": 12,
   "metadata": {},
   "outputs": [
    {
     "name": "stdout",
     "output_type": "stream",
     "text": [
      "Largest Sum : 750\n",
      "Largest Subarray :  [2, 3, 4, 5, -6, 37, 84, -96, 102, 78, -23, 48, 76, 96, 339, -1, -5, 1, 6]\n"
     ]
    }
   ],
   "source": [
    "arr = [-10, 2, 3, 4, 5, -6, 37, 84 ,-96, 102, 78, -23, 48, 76, 96, 339, -1, -5, 1, 6, -787, 8, 9]\n",
    "largest_low_index, largest_high_index, largest_sum = find_biggest_subset(arr, 0, len(arr)-1)\n",
    "print (\"Largest Sum :\", largest_sum)\n",
    "print (\"Largest Subarray : \", arr[largest_low_index: largest_high_index+1])"
   ]
  },
  {
   "cell_type": "code",
   "execution_count": null,
   "metadata": {},
   "outputs": [],
   "source": []
  }
 ],
 "metadata": {
  "kernelspec": {
   "display_name": "Python 3",
   "language": "python",
   "name": "python3"
  },
  "language_info": {
   "codemirror_mode": {
    "name": "ipython",
    "version": 3
   },
   "file_extension": ".py",
   "mimetype": "text/x-python",
   "name": "python",
   "nbconvert_exporter": "python",
   "pygments_lexer": "ipython3",
   "version": "3.6.6"
  }
 },
 "nbformat": 4,
 "nbformat_minor": 2
}
