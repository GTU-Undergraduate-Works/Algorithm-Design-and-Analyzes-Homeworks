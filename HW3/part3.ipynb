{
 "cells": [
  {
   "cell_type": "markdown",
   "metadata": {},
   "source": [
    "# INTRODUCTION TO ALGORTIHM DESIGN AND ANALAYZES HOMEWORK3"
   ]
  },
  {
   "cell_type": "markdown",
   "metadata": {},
   "source": [
    "## PART3"
   ]
  },
  {
   "cell_type": "markdown",
   "metadata": {},
   "source": [
    "This function takes a sorted array of distinct integers and finds out whether there is an index i for which A[i] = i.<br>\n",
    "if it it found return number, if not return -1."
   ]
  },
  {
   "cell_type": "markdown",
   "metadata": {},
   "source": [
    "<strong> arr : </strong> sorted array of distinct integers. if array is not sorted or has repated element, this funciton does not work.<br>\n",
    "<strong> left : </strong> index of first element.<br>\n",
    "<strong> right : </strong> index of last element.<br> <br>\n",
    "<strong> Comlexity Analysis : </strong><br>\n",
    "This function divides given array to subarray and searchs one of them again until element is found or not.<br>\n",
    "This funciton is like binary seach. So, complexity of this funciton is <strong>O(log(n))</strong>."
   ]
  },
  {
   "cell_type": "code",
   "execution_count": 2,
   "metadata": {},
   "outputs": [],
   "source": [
    "def search(arr, left, right):\n",
    "    \n",
    "    if right >= left:\n",
    "        mid = left + (right - left) // 2\n",
    "\n",
    "        if arr[mid] == mid:\n",
    "            return mid\n",
    "\n",
    "        elif arr[mid] > mid:\n",
    "            return search(arr, left, mid - 1)\n",
    "\n",
    "        else:\n",
    "            return search(arr, mid + 1, right)\n",
    "    else:\n",
    "        return -1\n"
   ]
  },
  {
   "cell_type": "markdown",
   "metadata": {},
   "source": [
    "Testing search function."
   ]
  },
  {
   "cell_type": "code",
   "execution_count": 5,
   "metadata": {},
   "outputs": [
    {
     "name": "stdout",
     "output_type": "stream",
     "text": [
      "Found. arr[ 5 ] = 5\n"
     ]
    }
   ],
   "source": [
    "arr = [-5, -4, -3, -2, -1, 5, 30, 31, 64 ,-88, 78, 96]\n",
    "result = search(arr, 0, len(arr) - 1)\n",
    "if result == -1:\n",
    "    print(\"Not found arr[i] = i\")\n",
    "else:\n",
    "    print(\"Found in arr[\", result, \"] =\", arr[result])"
   ]
  },
  {
   "cell_type": "markdown",
   "metadata": {},
   "source": [
    "Testing search function."
   ]
  },
  {
   "cell_type": "code",
   "execution_count": 7,
   "metadata": {},
   "outputs": [
    {
     "name": "stdout",
     "output_type": "stream",
     "text": [
      "Not found arr[i] = i\n"
     ]
    }
   ],
   "source": [
    "arr = [-5, -4, -3, -2, -1, 55, 30, 31, 64 ,-88, 78, 96]\n",
    "result = search(arr, 0, len(arr) - 1)\n",
    "if result == -1:\n",
    "    print(\"Not found arr[i] = i\")\n",
    "else:\n",
    "    print(\"Found in arr[\", result, \"] =\", arr[result])"
   ]
  }
 ],
 "metadata": {
  "kernelspec": {
   "display_name": "Python 3",
   "language": "python",
   "name": "python3"
  },
  "language_info": {
   "codemirror_mode": {
    "name": "ipython",
    "version": 3
   },
   "file_extension": ".py",
   "mimetype": "text/x-python",
   "name": "python",
   "nbconvert_exporter": "python",
   "pygments_lexer": "ipython3",
   "version": "3.6.6"
  }
 },
 "nbformat": 4,
 "nbformat_minor": 2
}
