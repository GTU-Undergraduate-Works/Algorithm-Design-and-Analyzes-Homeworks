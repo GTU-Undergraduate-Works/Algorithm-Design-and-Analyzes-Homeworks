{
 "cells": [
  {
   "cell_type": "markdown",
   "metadata": {},
   "source": [
    "# INTRODUCTION TO ALGORTIHM DESIGN AND ANALAYZES HOMEWORK3"
   ]
  },
  {
   "cell_type": "markdown",
   "metadata": {},
   "source": [
    "## PART5"
   ]
  },
  {
   "cell_type": "markdown",
   "metadata": {},
   "source": [
    "List of valid words."
   ]
  },
  {
   "cell_type": "code",
   "execution_count": 5,
   "metadata": {},
   "outputs": [],
   "source": [
    "dictionary = [\"to\", \"be\", \"or\", \"not\", \"geek\", \"for\"]"
   ]
  },
  {
   "cell_type": "markdown",
   "metadata": {},
   "source": [
    "This function takes pattern and string and checks given pattern is valid on given string.<br>\n",
    "<strong> string : </strong> string to check is valid for given pattern.<br>\n",
    "<strong> pattern : </strong> pattern to check is valid for given stirng.<br>\n",
    "<strong> map : </strong> map to add strings matching patterns\n",
    "\n",
    "<strong> Complexity Analysis : </strong> <br>\n",
    "This function finds valid string, decreases string and solves problem for decreased srtring. <br>\n",
    "\\begin{equation*}\n",
    "T(n) = T(n-1)\n",
    "\\end{equation*}\n",
    "\\begin{equation*}\n",
    "T(n) = {\\theta (n)} \n",
    "\\end{equation*}"
   ]
  },
  {
   "cell_type": "code",
   "execution_count": 6,
   "metadata": {},
   "outputs": [],
   "source": [
    "def isValidPattern(string, pattern, map):\n",
    "    n = len(string)\n",
    "    m = len(pattern)\n",
    "    if n == 0 and m == 0:\n",
    "        return True\n",
    "    if n == 0 or m == 0:\n",
    "        return False\n",
    "    i = 0\n",
    "    str = \"\"\n",
    "    found = False\n",
    "    while i < n and not found:\n",
    "        str += string[i]\n",
    "        i += 1\n",
    "        if dictionary.__contains__(str):\n",
    "            found = True\n",
    "    if found:\n",
    "        if map.get(pattern[0]) == str:\n",
    "            return isValidPattern(string[i:], pattern[1:], map)\n",
    "        elif map.get(pattern[0]) == None:\n",
    "            map[pattern[0]] = str\n",
    "            return isValidPattern(string[i:], pattern[1:], map)\n",
    "\n",
    "        else:\n",
    "            return False\n",
    "    else:\n",
    "        return False"
   ]
  },
  {
   "cell_type": "markdown",
   "metadata": {},
   "source": [
    "Testing isValidPattern function."
   ]
  },
  {
   "cell_type": "code",
   "execution_count": 14,
   "metadata": {},
   "outputs": [
    {
     "name": "stdout",
     "output_type": "stream",
     "text": [
      "Pattern is valid for given string.\n",
      "Pattern : String  {'A': 'to', 'B': 'be', 'C': 'or', 'D': 'not'}\n"
     ]
    }
   ],
   "source": [
    "map = {}\n",
    "valid = isValidPattern(\"tobeornottobe\", \"ABCDAB\", map)\n",
    "if valid:\n",
    "    print(\"Pattern is valid for given string.\")\n",
    "    print(\"Pattern : String \", map)\n",
    "else:\n",
    "    print(\"Pattern is not valid for given string\")"
   ]
  },
  {
   "cell_type": "code",
   "execution_count": null,
   "metadata": {},
   "outputs": [],
   "source": []
  }
 ],
 "metadata": {
  "kernelspec": {
   "display_name": "Python 3",
   "language": "python",
   "name": "python3"
  },
  "language_info": {
   "codemirror_mode": {
    "name": "ipython",
    "version": 3
   },
   "file_extension": ".py",
   "mimetype": "text/x-python",
   "name": "python",
   "nbconvert_exporter": "python",
   "pygments_lexer": "ipython3",
   "version": "3.6.6"
  }
 },
 "nbformat": 4,
 "nbformat_minor": 2
}
