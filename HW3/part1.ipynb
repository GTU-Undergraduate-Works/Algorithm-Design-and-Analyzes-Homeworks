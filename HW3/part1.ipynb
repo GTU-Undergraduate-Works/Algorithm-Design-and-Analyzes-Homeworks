{
 "cells": [
  {
   "cell_type": "markdown",
   "metadata": {},
   "source": [
    "# INTRODUCTION TO ALGORTIHM DESIGN AND ANALAYZES HOMEWORK3"
   ]
  },
  {
   "cell_type": "markdown",
   "metadata": {},
   "source": [
    "## PART1"
   ]
  },
  {
   "cell_type": "markdown",
   "metadata": {},
   "source": [
    "importing pandas library to read xls file."
   ]
  },
  {
   "cell_type": "code",
   "execution_count": 16,
   "metadata": {},
   "outputs": [],
   "source": [
    "import pandas as pd"
   ]
  },
  {
   "cell_type": "markdown",
   "metadata": {},
   "source": [
    "Edge class to represent edges of graph.<br>\n",
    "<strong>source</strong> : source vertex of edge.<br>\n",
    "<strong>destination</strong> : destination vertex of edge.<br>\n",
    "<strong>weight</strong> : weight of edge."
   ]
  },
  {
   "cell_type": "code",
   "execution_count": 17,
   "metadata": {},
   "outputs": [],
   "source": [
    "class Edge:\n",
    "    \n",
    "    def __init__(self, source, destination, weight=1.0):\n",
    "        self.source = source\n",
    "        self.destination = destination\n",
    "        self.weight = weight\n",
    "\n",
    "    def get_destination(self):\n",
    "        return self.destination\n",
    "\n",
    "    def get_source(self):\n",
    "        return self.source\n",
    "\n",
    "    def get_weight(self):\n",
    "        return self.weight\n",
    "\n",
    "    def __eq__(self, other):\n",
    "        return self.source == other.get_source() and self.destination == other.get_destination()"
   ]
  },
  {
   "cell_type": "markdown",
   "metadata": {},
   "source": [
    "Graph class to reprsent graph data structure<br>\n",
    "<strong>num_vertex</strong> : number of vertex in graph.<br>\n",
    "<strong>root_vertex</strong> : root vertex of graph(default:1).<br>\n",
    "<strong>directed</strong> : Graph is directed or undirected.(default: undirected)"
   ]
  },
  {
   "cell_type": "code",
   "execution_count": 1,
   "metadata": {},
   "outputs": [],
   "source": [
    "class Graph:\n",
    "\n",
    "    def __init__(self, num_vertex, root_vertex=0, directed=False):\n",
    "        self.num_vertex = num_vertex\n",
    "        self.directed = directed\n",
    "        self.root_vertex = root_vertex\n",
    "        self.edges = [None]*num_vertex\n",
    "        for i in range(num_vertex):\n",
    "            self.edges[i] = []\n",
    "\n",
    "\n",
    "    def is_edge(self, source, destination):\n",
    "        if source < 0 or source >= self.num_vertex:\n",
    "            return False\n",
    "        return self.edges[source].__contains__(Edge(source, destination))\n",
    "\n",
    "    def get_num_vertex(self):\n",
    "        return self.num_vertex\n",
    "\n",
    "    def is_directed(self):\n",
    "        return self.directed\n",
    "\n",
    "    def get_root_vertex(self):\n",
    "        return self.root_vertex\n",
    "\n",
    "    def insert(self, edge):\n",
    "        if not self.is_edge(edge.get_source(), edge.get_destination()):\n",
    "            self.edges[edge.get_source()].append(edge)\n",
    "            if not self.is_directed():\n",
    "                self.edges[edge.get_destination()].append(Edge(edge.get_destination(), edge.get_source()))\n",
    "\n",
    "    def get_edge(self, source, destination):\n",
    "        target = Edge(source, destination, weight=float('inf'))\n",
    "        for edge in self.edges[source]:\n",
    "            if edge == target:\n",
    "                return edge\n",
    "        return target\n",
    "\n",
    "    def get_edges(self, source):\n",
    "        assert source >= 0 and source < self.num_vertex\n",
    "        return self.edges[source]"
   ]
  },
  {
   "cell_type": "markdown",
   "metadata": {},
   "source": [
    "DFS class to represent Depth First Search<br>\n",
    "<strong>graph</strong> : graph to traverse depth first.<br><br>\n",
    "<strong> Complexity of Depth First Search : </strong> <br>\n",
    "Depth-first search visits every vertex once and checks every edge in the graph once. <br>\n",
    "Therefore, DFS complexity is O(V+E).<br>\n",
    "<strong>V : </strong> number of vertices in graph. <br>\n",
    "<strong>E : </strong> number of edges in graph. <br>"
   ]
  },
  {
   "cell_type": "code",
   "execution_count": 19,
   "metadata": {},
   "outputs": [],
   "source": [
    "class DFS:\n",
    "\n",
    "    def __init__(self, graph):\n",
    "        self.graph = graph\n",
    "        n = graph.get_num_vertex()\n",
    "        self.visited = [False]*n\n",
    "        self.finish_order = [-1]*n\n",
    "        self.finish_index = 0\n",
    "        self.depth_first_search(graph.get_root_vertex())\n",
    "\n",
    "\n",
    "    def depth_first_search(self, current):\n",
    "        self.visited[current] = True\n",
    "        for edge in self.graph.get_edges(current):\n",
    "            neighbour = edge.get_destination()\n",
    "            if not self.visited[neighbour]:\n",
    "                self.depth_first_search(neighbour)\n",
    "        self.finish_order[self.finish_index] = current\n",
    "        self.finish_index += 1\n",
    "\n",
    "    def get_finish_order(self):\n",
    "        return self.finish_order"
   ]
  },
  {
   "cell_type": "markdown",
   "metadata": {},
   "source": [
    "BFS class to represent Breadth First Search<br>\n",
    "<strong>graph</strong> : graph to traverse depth first.<br><br>\n",
    "<strong> Complexity of  Breadth First Search : </strong> <br>\n",
    "Breadth-first search visits every vertex once and checks every edge in the graph once. <br>\n",
    "Therefore, BFS complexity is O(V+E).<br>\n",
    "<strong>V : </strong> number of vertices in graph. <br>\n",
    "<strong>E : </strong> number of edges in graph. <br>"
   ]
  },
  {
   "cell_type": "code",
   "execution_count": 20,
   "metadata": {},
   "outputs": [],
   "source": [
    "class BFS:\n",
    "\n",
    "    def __init__(self, graph):\n",
    "        self.graph = graph\n",
    "        n = graph.get_num_vertex()\n",
    "        self.visited = [False] * n\n",
    "        self.finish_order = [-1]*n\n",
    "        self.finish_index = 0\n",
    "        queue = []\n",
    "        queue.insert(0, graph.get_root_vertex())\n",
    "        self.visited[graph.get_root_vertex()] = True\n",
    "        self.breatdh_first_search(queue)\n",
    "\n",
    "\n",
    "    def breatdh_first_search(self, queue):\n",
    "\n",
    "        if len(queue) <= 0:\n",
    "            return\n",
    "        vertex = queue.pop()\n",
    "        self.finish_order[self.finish_index] = vertex\n",
    "        self.finish_index += 1\n",
    "        for edge in self.graph.get_edges(vertex):\n",
    "            neighbour = edge.get_destination()\n",
    "            if not self.visited[neighbour]:\n",
    "                self.visited[neighbour] = True\n",
    "                queue.insert(0, neighbour)\n",
    "        self.breatdh_first_search(queue)\n",
    "\n",
    "\n",
    "    def get_finish_order(self):\n",
    "        return self.finish_order"
   ]
  },
  {
   "cell_type": "markdown",
   "metadata": {},
   "source": [
    "This function gets filename and creates graph from file named given filename.<br>\n",
    "This functions uses pandas library to read xls file.<br>\n",
    "<strong>filename</strong> : filename to read edges of graph."
   ]
  },
  {
   "cell_type": "code",
   "execution_count": 21,
   "metadata": {},
   "outputs": [],
   "source": [
    "def create_graph_from_file(filename):\n",
    "    data = pd.read_excel(\"Graph_data.XLS\")\n",
    "    assert data.columns[0].lower() == \"root vertex\", \"File format is not valid.\"\n",
    "    root_vertex = int(data.columns[1])\n",
    "    assert data[data.columns[0]][0].lower() == \"edges\", \"File format is not valid.\"\n",
    "    assert data[data.columns[0]][1].lower() == \"from\", \"File format is not valid.\"\n",
    "    assert data[data.columns[1]][1].lower() == \"to\", \"File format is not valid.\"\n",
    "    i = 2\n",
    "    sources = []\n",
    "    destinations = []\n",
    "    while i < data.shape[0]:\n",
    "        sources.append(int(data[data.columns[0]][i]))\n",
    "        destinations.append(int(data[data.columns[1]][i]))\n",
    "        i += 1\n",
    "\n",
    "    num_vertex = max(max(sources), max(destinations))\n",
    "    assert root_vertex > 0 and root_vertex <= num_vertex, \"Root vertex is not valid\"\n",
    "    graph = Graph(num_vertex, root_vertex=root_vertex-1, directed=True)\n",
    "    for i in range(len(sources)):\n",
    "        graph.insert(Edge(sources[i]-1, destinations[i]-1))\n",
    "    return graph"
   ]
  },
  {
   "cell_type": "markdown",
   "metadata": {},
   "source": [
    "Testing Depth First Search and Breadth First Search.<br>\n",
    "First prints root vertex of graph, after prints traverse order."
   ]
  },
  {
   "cell_type": "code",
   "execution_count": 23,
   "metadata": {},
   "outputs": [
    {
     "name": "stdout",
     "output_type": "stream",
     "text": [
      "Depth First Search : \n",
      "1 -> 10 -> 9 -> 8 -> 7 -> 6 -> 5 -> 4 -> 2 -> 3 -> 1\n",
      "\n",
      "Breadth First Search : \n",
      "1 -> 1 -> 2 -> 3 -> 4 -> 5 -> 8 -> 6 -> 9 -> 10 -> 7"
     ]
    }
   ],
   "source": [
    "graph = create_graph_from_file(\"Graph_data.XLS\")\n",
    "dfs = DFS(graph)\n",
    "print(\"Depth First Search : \")\n",
    "print(graph.get_root_vertex()+1, end='')\n",
    "for i in dfs.get_finish_order():\n",
    "    print(\" ->\", i+1, end='')\n",
    "\n",
    "bfs = BFS(graph)\n",
    "print(\"\\n\\nBreadth First Search : \")\n",
    "print(graph.get_root_vertex()+1, end='')\n",
    "for i in bfs.get_finish_order():\n",
    "    print(\" ->\", i+1, end='')"
   ]
  }
 ],
 "metadata": {
  "kernelspec": {
   "display_name": "Python 3",
   "language": "python",
   "name": "python3"
  },
  "language_info": {
   "codemirror_mode": {
    "name": "ipython",
    "version": 3
   },
   "file_extension": ".py",
   "mimetype": "text/x-python",
   "name": "python",
   "nbconvert_exporter": "python",
   "pygments_lexer": "ipython3",
   "version": "3.6.6"
  }
 },
 "nbformat": 4,
 "nbformat_minor": 2
}
