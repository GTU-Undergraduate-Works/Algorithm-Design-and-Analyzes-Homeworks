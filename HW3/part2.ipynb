{
 "cells": [
  {
   "cell_type": "markdown",
   "metadata": {},
   "source": [
    "# INTRODUCTION TO ALGORTIHM DESIGN AND ANALAYZES HOMEWORK3"
   ]
  },
  {
   "cell_type": "markdown",
   "metadata": {},
   "source": [
    "## PART2"
   ]
  },
  {
   "cell_type": "markdown",
   "metadata": {},
   "source": [
    "improting libraries"
   ]
  },
  {
   "cell_type": "code",
   "execution_count": 1,
   "metadata": {},
   "outputs": [],
   "source": [
    "import random\n",
    "from enum import Enum"
   ]
  },
  {
   "cell_type": "markdown",
   "metadata": {},
   "source": [
    "Defining enumration type for players."
   ]
  },
  {
   "cell_type": "code",
   "execution_count": 2,
   "metadata": {},
   "outputs": [],
   "source": [
    "from enum import Enum\n",
    "class Player(Enum):\n",
    "    PLAYER1 = 1\n",
    "    PLAYER2 = 2"
   ]
  },
  {
   "cell_type": "markdown",
   "metadata": {},
   "source": [
    "This function plays game and makes move of player1.<br>\n",
    "Player1 wins game for all cases.<br>\n",
    "<strong> n : </strong> number of chips on pim. <br>\n",
    "<strong> m : </strong> maximum number of chip to remove. <br><br>\n",
    "<strong> Complexiy Analysis: </strong><br>\n",
    "T(n) = T(n-m).<br>\n",
    "So, time complexity of this function, <strong>T(n) = O(n)</strong>"
   ]
  },
  {
   "cell_type": "code",
   "execution_count": 5,
   "metadata": {},
   "outputs": [],
   "source": [
    "def who_wins(n, m, player):\n",
    "    if n <= m:\n",
    "        print(\"Game Over.\", player, \"won.\")\n",
    "        return\n",
    "    if player == Player.PLAYER1:\n",
    "        if n > m and n <= 2*m:\n",
    "            removed_chip = n % (m+1)\n",
    "            print(\"Total chips : \", n, player, \"removed\", removed_chip, \"chips from pin.\")\n",
    "            player = Player.PLAYER2\n",
    "            return who_wins(n - removed_chip, m, player)\n",
    "        else:\n",
    "            removed_chip = random.randint(1,m)\n",
    "            print(\"Total chips : \", n, player, \"removed\", removed_chip, \"chips from pin.\")\n",
    "            player = Player.PLAYER2\n",
    "            return who_wins(n - removed_chip, m, player)\n",
    "    else:\n",
    "        removed_chip = random.randint(1, m)\n",
    "        print(\"Total chips : \", n, player, \"removed\", removed_chip, \"chips from pin.\")\n",
    "        player = Player.PLAYER1\n",
    "        return who_wins(n - removed_chip, m, player)"
   ]
  },
  {
   "cell_type": "markdown",
   "metadata": {},
   "source": [
    "Testing who_wins function."
   ]
  },
  {
   "cell_type": "code",
   "execution_count": 6,
   "metadata": {},
   "outputs": [
    {
     "name": "stdout",
     "output_type": "stream",
     "text": [
      "Total chips :  50 Player.PLAYER1 removed 2 chips from pin.\n",
      "Total chips :  48 Player.PLAYER2 removed 1 chips from pin.\n",
      "Total chips :  47 Player.PLAYER1 removed 2 chips from pin.\n",
      "Total chips :  45 Player.PLAYER2 removed 2 chips from pin.\n",
      "Total chips :  43 Player.PLAYER1 removed 2 chips from pin.\n",
      "Total chips :  41 Player.PLAYER2 removed 1 chips from pin.\n",
      "Total chips :  40 Player.PLAYER1 removed 2 chips from pin.\n",
      "Total chips :  38 Player.PLAYER2 removed 1 chips from pin.\n",
      "Total chips :  37 Player.PLAYER1 removed 2 chips from pin.\n",
      "Total chips :  35 Player.PLAYER2 removed 2 chips from pin.\n",
      "Total chips :  33 Player.PLAYER1 removed 2 chips from pin.\n",
      "Total chips :  31 Player.PLAYER2 removed 2 chips from pin.\n",
      "Total chips :  29 Player.PLAYER1 removed 1 chips from pin.\n",
      "Total chips :  28 Player.PLAYER2 removed 1 chips from pin.\n",
      "Total chips :  27 Player.PLAYER1 removed 2 chips from pin.\n",
      "Total chips :  25 Player.PLAYER2 removed 2 chips from pin.\n",
      "Total chips :  23 Player.PLAYER1 removed 2 chips from pin.\n",
      "Total chips :  21 Player.PLAYER2 removed 1 chips from pin.\n",
      "Total chips :  20 Player.PLAYER1 removed 1 chips from pin.\n",
      "Total chips :  19 Player.PLAYER2 removed 2 chips from pin.\n",
      "Total chips :  17 Player.PLAYER1 removed 2 chips from pin.\n",
      "Total chips :  15 Player.PLAYER2 removed 2 chips from pin.\n",
      "Total chips :  13 Player.PLAYER1 removed 2 chips from pin.\n",
      "Total chips :  11 Player.PLAYER2 removed 1 chips from pin.\n",
      "Total chips :  10 Player.PLAYER1 removed 1 chips from pin.\n",
      "Total chips :  9 Player.PLAYER2 removed 1 chips from pin.\n",
      "Total chips :  8 Player.PLAYER1 removed 2 chips from pin.\n",
      "Total chips :  6 Player.PLAYER2 removed 2 chips from pin.\n",
      "Total chips :  4 Player.PLAYER1 removed 1 chips from pin.\n",
      "Total chips :  3 Player.PLAYER2 removed 2 chips from pin.\n",
      "Game Over. Player.PLAYER1 won.\n"
     ]
    }
   ],
   "source": [
    "who_wins(50, 2, Player.PLAYER1)"
   ]
  },
  {
   "cell_type": "code",
   "execution_count": null,
   "metadata": {},
   "outputs": [],
   "source": []
  }
 ],
 "metadata": {
  "kernelspec": {
   "display_name": "Python 3",
   "language": "python",
   "name": "python3"
  },
  "language_info": {
   "codemirror_mode": {
    "name": "ipython",
    "version": 3
   },
   "file_extension": ".py",
   "mimetype": "text/x-python",
   "name": "python",
   "nbconvert_exporter": "python",
   "pygments_lexer": "ipython3",
   "version": "3.6.6"
  }
 },
 "nbformat": 4,
 "nbformat_minor": 2
}
